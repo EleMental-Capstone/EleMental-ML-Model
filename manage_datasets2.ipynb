{
 "cells": [
  {
   "cell_type": "markdown",
   "metadata": {},
   "source": [
    "# Manage Datasets"
   ]
  },
  {
   "cell_type": "code",
   "execution_count": 2,
   "metadata": {},
   "outputs": [],
   "source": [
    "import pandas as pd"
   ]
  },
  {
   "cell_type": "markdown",
   "metadata": {},
   "source": [
    "## Gathering Data"
   ]
  },
  {
   "cell_type": "code",
   "execution_count": 3,
   "metadata": {},
   "outputs": [],
   "source": [
    "sentiment_chatgpt = pd.read_csv('E:\\MSIB_BANGKIT\\CAPSTONE_C241-PR565\\data\\datasets_csv\\chatgpt_sentiment.csv')\n",
    "sentiment_mentalhealth = pd.read_csv('E:\\MSIB_BANGKIT\\CAPSTONE_C241-PR565\\data\\datasets_csv\\Mental_Health_Dataset_sentiment.csv')"
   ]
  },
  {
   "cell_type": "code",
   "execution_count": 4,
   "metadata": {},
   "outputs": [
    {
     "name": "stdout",
     "output_type": "stream",
     "text": [
      "Sentiment ChatGPT\n",
      "   Unnamed: 0                                             tweets   labels\n",
      "0           0  ChatGPT: Optimizing Language Models for Dialog...  neutral\n",
      "1           1  Try talking with ChatGPT, our new AI system wh...     good\n",
      "2           2  ChatGPT: Optimizing Language Models for Dialog...  neutral\n",
      "3           3  THRILLED to share that ChatGPT, our new model ...     good\n",
      "4           4  As of 2 minutes ago, @OpenAI released their ne...      bad\n",
      "\n",
      "Sentiment Mental Health\n",
      "                                               posts predicted  intensity\n",
      "0  I know as parent of child with down syndrome t...  negative         -1\n",
      "1  but in my heart I know this is the future prom...   neutral          0\n",
      "2  I have mylefibrosis which turn to leukemia the...  negative         -1\n",
      "3  from one of my health group subject wayne dyer...   neutral          0\n",
      "4  gmos now link to leukemia http nsnbc I 2013 07...   neutral          0\n"
     ]
    }
   ],
   "source": [
    "# Load some first line of datasets\n",
    "\n",
    "print(\"Sentiment ChatGPT\")\n",
    "print(sentiment_chatgpt.head())\n",
    "print(\"\\nSentiment Mental Health\")\n",
    "print(sentiment_mentalhealth.head())"
   ]
  },
  {
   "cell_type": "markdown",
   "metadata": {},
   "source": [
    "## Assessing Data\n",
    "We only need text column and its sentiment. So let drop them first to assess data easier"
   ]
  },
  {
   "cell_type": "code",
   "execution_count": 5,
   "metadata": {},
   "outputs": [],
   "source": [
    "# Sentiment ChatGPT\n",
    "#calling unnamed column to drop\n",
    "unnamed_col = [col for col in sentiment_chatgpt.columns if col.startswith('Unnamed:')]\n",
    "sentiment_chatgpt = sentiment_chatgpt.drop(columns = unnamed_col)\n",
    "\n",
    "# Sentiment Mental Health\n",
    "sentiment_mentalhealth = sentiment_mentalhealth.drop(columns = ['intensity'])"
   ]
  },
  {
   "cell_type": "code",
   "execution_count": 6,
   "metadata": {},
   "outputs": [
    {
     "name": "stdout",
     "output_type": "stream",
     "text": [
      "Sentiment ChatGPT\n",
      "                                              tweets   labels\n",
      "0  ChatGPT: Optimizing Language Models for Dialog...  neutral\n",
      "1  Try talking with ChatGPT, our new AI system wh...     good\n",
      "2  ChatGPT: Optimizing Language Models for Dialog...  neutral\n",
      "3  THRILLED to share that ChatGPT, our new model ...     good\n",
      "4  As of 2 minutes ago, @OpenAI released their ne...      bad\n",
      "\n",
      "Sentiment Mental Health\n",
      "                                               posts predicted\n",
      "0  I know as parent of child with down syndrome t...  negative\n",
      "1  but in my heart I know this is the future prom...   neutral\n",
      "2  I have mylefibrosis which turn to leukemia the...  negative\n",
      "3  from one of my health group subject wayne dyer...   neutral\n",
      "4  gmos now link to leukemia http nsnbc I 2013 07...   neutral\n"
     ]
    }
   ],
   "source": [
    "# Load some first line of datasets after dropping\n",
    "\n",
    "print(\"Sentiment ChatGPT\")\n",
    "print(sentiment_chatgpt.head())\n",
    "print(\"\\nSentiment Mental Health\")\n",
    "print(sentiment_mentalhealth.head())"
   ]
  },
  {
   "cell_type": "code",
   "execution_count": 7,
   "metadata": {},
   "outputs": [
    {
     "name": "stdout",
     "output_type": "stream",
     "text": [
      "<class 'pandas.core.frame.DataFrame'>\n",
      "RangeIndex: 219294 entries, 0 to 219293\n",
      "Data columns (total 2 columns):\n",
      " #   Column  Non-Null Count   Dtype \n",
      "---  ------  --------------   ----- \n",
      " 0   tweets  219294 non-null  object\n",
      " 1   labels  219294 non-null  object\n",
      "dtypes: object(2)\n",
      "memory usage: 3.3+ MB\n",
      "<class 'pandas.core.frame.DataFrame'>\n",
      "RangeIndex: 10392 entries, 0 to 10391\n",
      "Data columns (total 2 columns):\n",
      " #   Column     Non-Null Count  Dtype \n",
      "---  ------     --------------  ----- \n",
      " 0   posts      10391 non-null  object\n",
      " 1   predicted  10392 non-null  object\n",
      "dtypes: object(2)\n",
      "memory usage: 162.5+ KB\n"
     ]
    }
   ],
   "source": [
    "# Check any missing value\n",
    "sentiment_chatgpt.info()\n",
    "sentiment_mentalhealth.info()"
   ]
  },
  {
   "cell_type": "markdown",
   "metadata": {},
   "source": [
    "We only need \"input\" wich is a text and \"sentiment\". Then we make them in one datasets."
   ]
  },
  {
   "cell_type": "code",
   "execution_count": 8,
   "metadata": {},
   "outputs": [],
   "source": [
    "#Rename column to \"text\" and \"sentiment\"\n",
    "sentiment_chatgpt = sentiment_chatgpt.rename(columns = {'tweets':'text', 'labels':'sentiment'})\n",
    "sentiment_mentalhealth = sentiment_mentalhealth.rename(columns = {'posts':'text', 'predicted':'sentiment'})"
   ]
  },
  {
   "cell_type": "code",
   "execution_count": 9,
   "metadata": {},
   "outputs": [
    {
     "name": "stdout",
     "output_type": "stream",
     "text": [
      "Sentiment ChatGPT\n",
      "                                                text sentiment\n",
      "0  ChatGPT: Optimizing Language Models for Dialog...   neutral\n",
      "1  Try talking with ChatGPT, our new AI system wh...      good\n",
      "2  ChatGPT: Optimizing Language Models for Dialog...   neutral\n",
      "3  THRILLED to share that ChatGPT, our new model ...      good\n",
      "4  As of 2 minutes ago, @OpenAI released their ne...       bad\n",
      "\n",
      "Sentiment Mental Health\n",
      "                                                text sentiment\n",
      "0  I know as parent of child with down syndrome t...  negative\n",
      "1  but in my heart I know this is the future prom...   neutral\n",
      "2  I have mylefibrosis which turn to leukemia the...  negative\n",
      "3  from one of my health group subject wayne dyer...   neutral\n",
      "4  gmos now link to leukemia http nsnbc I 2013 07...   neutral\n"
     ]
    }
   ],
   "source": [
    "# Load some first line of datasets after rename\n",
    "\n",
    "print(\"Sentiment ChatGPT\")\n",
    "print(sentiment_chatgpt.head())\n",
    "print(\"\\nSentiment Mental Health\")\n",
    "print(sentiment_mentalhealth.head())"
   ]
  },
  {
   "cell_type": "code",
   "execution_count": 10,
   "metadata": {},
   "outputs": [
    {
     "name": "stdout",
     "output_type": "stream",
     "text": [
      "                                                     text      sentiment\n",
      "0       ChatGPT: Optimizing Language Models for Dialog...        neutral\n",
      "1       Try talking with ChatGPT, our new AI system wh...           good\n",
      "2       ChatGPT: Optimizing Language Models for Dialog...        neutral\n",
      "3       THRILLED to share that ChatGPT, our new model ...           good\n",
      "4       As of 2 minutes ago, @OpenAI released their ne...            bad\n",
      "...                                                   ...            ...\n",
      "229681  hey everyone I am a 25 year old male I work ou...       negative\n",
      "229682  have surgery for stage 1 colon cancer 1 year a...  very negative\n",
      "229683  the doctor advise we he could not remove the a...        neutral\n",
      "229684  my 66 year old father have been through so muc...        neutral\n",
      "229685  I have bein have a bloody stool since last yea...       negative\n",
      "\n",
      "[229686 rows x 2 columns]\n"
     ]
    }
   ],
   "source": [
    "# Combine all datasets into one dataset\n",
    "combined_dataset = pd.concat([sentiment_chatgpt, sentiment_mentalhealth], ignore_index = True)\n",
    "\n",
    "print(combined_dataset)"
   ]
  },
  {
   "cell_type": "code",
   "execution_count": 11,
   "metadata": {},
   "outputs": [
    {
     "name": "stdout",
     "output_type": "stream",
     "text": [
      "sentiment\n",
      "bad              107796\n",
      "neutral           59862\n",
      "good              56011\n",
      "negative           4112\n",
      "very negative      1155\n",
      "positive            750\n",
      "Name: count, dtype: int64\n"
     ]
    }
   ],
   "source": [
    "# Print what sentiments we have in dataset\n",
    "unique_sent = combined_dataset['sentiment'].value_counts()\n",
    "print(unique_sent)"
   ]
  },
  {
   "cell_type": "markdown",
   "metadata": {},
   "source": [
    "To make classify easier, we will make \"positive\" as \"good\", \"very negative\" and \"negative\" as \"bad\""
   ]
  },
  {
   "cell_type": "code",
   "execution_count": 12,
   "metadata": {},
   "outputs": [],
   "source": [
    "combined_dataset['sentiment'] = combined_dataset['sentiment'].replace(['negative', 'very negative'], 'bad')\n",
    "combined_dataset['sentiment'] = combined_dataset['sentiment'].replace(['positive'], 'good')"
   ]
  },
  {
   "cell_type": "code",
   "execution_count": 13,
   "metadata": {},
   "outputs": [
    {
     "name": "stdout",
     "output_type": "stream",
     "text": [
      "sentiment\n",
      "bad        113063\n",
      "neutral     59862\n",
      "good        56761\n",
      "Name: count, dtype: int64\n"
     ]
    }
   ],
   "source": [
    "# Print again what sentiments we have in dataset to know if it changes\n",
    "unique_sent = combined_dataset['sentiment'].value_counts()\n",
    "print(unique_sent)"
   ]
  },
  {
   "cell_type": "markdown",
   "metadata": {},
   "source": [
    "Data dengan label \"bad\" terlalu banyak dan dapat memengaruhi training nantinya. Oleh karena itu, dilakukan undersampling."
   ]
  },
  {
   "cell_type": "code",
   "execution_count": 14,
   "metadata": {},
   "outputs": [],
   "source": [
    "# separate data based on labels\n",
    "bad_data = combined_dataset[combined_dataset['sentiment']=='bad']\n",
    "neutral_data = combined_dataset[combined_dataset['sentiment']=='neutral']\n",
    "good_data = combined_dataset[combined_dataset['sentiment']=='good']\n",
    "\n",
    "# N samples for each label\n",
    "n_samples = min(len(neutral_data), len(good_data))\n",
    "\n",
    "# undersampling bad_data\n",
    "bad_data = bad_data.sample(n = n_samples, random_state = 42)\n",
    "\n",
    "# combine all data\n",
    "new_dataset = pd.concat([bad_data, neutral_data, good_data])"
   ]
  },
  {
   "cell_type": "code",
   "execution_count": 15,
   "metadata": {},
   "outputs": [
    {
     "name": "stdout",
     "output_type": "stream",
     "text": [
      "sentiment\n",
      "neutral    59862\n",
      "bad        56761\n",
      "good       56761\n",
      "Name: count, dtype: int64\n"
     ]
    }
   ],
   "source": [
    "# Print again what sentiments we have in dataset to know if it changes\n",
    "uniques_sent = new_dataset['sentiment'].value_counts()\n",
    "print(uniques_sent)"
   ]
  },
  {
   "cell_type": "code",
   "execution_count": 16,
   "metadata": {},
   "outputs": [],
   "source": [
    "# Save combine dataset into new csv file\n",
    "combined_dataset.to_csv('E:\\MSIB_BANGKIT\\CAPSTONE_C241-PR565\\data\\capstone_new_dataset.csv', index = False)"
   ]
  }
 ],
 "metadata": {
  "kernelspec": {
   "display_name": "Python 3",
   "language": "python",
   "name": "python3"
  },
  "language_info": {
   "codemirror_mode": {
    "name": "ipython",
    "version": 3
   },
   "file_extension": ".py",
   "mimetype": "text/x-python",
   "name": "python",
   "nbconvert_exporter": "python",
   "pygments_lexer": "ipython3",
   "version": "3.10.11"
  }
 },
 "nbformat": 4,
 "nbformat_minor": 2
}
