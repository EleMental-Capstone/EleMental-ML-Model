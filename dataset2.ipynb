{
 "cells": [
  {
   "cell_type": "code",
   "execution_count": 1,
   "metadata": {},
   "outputs": [],
   "source": [
    "import pandas as pd"
   ]
  },
  {
   "cell_type": "code",
   "execution_count": 2,
   "metadata": {},
   "outputs": [],
   "source": [
    "dataset = pd.read_csv('E:\\MSIB_BANGKIT\\CAPSTONE_C241-PR565\\data\\capstone_sentiment_dataset.csv')"
   ]
  },
  {
   "cell_type": "code",
   "execution_count": 3,
   "metadata": {},
   "outputs": [
    {
     "name": "stdout",
     "output_type": "stream",
     "text": [
      "sentiment\n",
      "bad              107796\n",
      "neutral           75548\n",
      "good              56011\n",
      "negative          14668\n",
      "worry              8459\n",
      "positive           8116\n",
      "happiness          5209\n",
      "sadness            5165\n",
      "love               3842\n",
      "surprise           2187\n",
      "anger              2110\n",
      "joy                2000\n",
      "fear               1937\n",
      "fun                1776\n",
      "relief             1526\n",
      "hate               1323\n",
      "very negative      1155\n",
      "empty               827\n",
      "enthusiasm          759\n",
      "boredom             179\n",
      "Name: count, dtype: int64\n"
     ]
    }
   ],
   "source": [
    "unique_val = dataset['sentiment'].value_counts()\n",
    "print(unique_val)"
   ]
  },
  {
   "cell_type": "code",
   "execution_count": 6,
   "metadata": {},
   "outputs": [
    {
     "data": {
      "text/html": [
       "<div>\n",
       "<style scoped>\n",
       "    .dataframe tbody tr th:only-of-type {\n",
       "        vertical-align: middle;\n",
       "    }\n",
       "\n",
       "    .dataframe tbody tr th {\n",
       "        vertical-align: top;\n",
       "    }\n",
       "\n",
       "    .dataframe thead th {\n",
       "        text-align: right;\n",
       "    }\n",
       "</style>\n",
       "<table border=\"1\" class=\"dataframe\">\n",
       "  <thead>\n",
       "    <tr style=\"text-align: right;\">\n",
       "      <th></th>\n",
       "      <th>text</th>\n",
       "      <th>sentiment</th>\n",
       "    </tr>\n",
       "  </thead>\n",
       "  <tbody>\n",
       "    <tr>\n",
       "      <th>0</th>\n",
       "      <td>ChatGPT: Optimizing Language Models for Dialog...</td>\n",
       "      <td>neutral</td>\n",
       "    </tr>\n",
       "    <tr>\n",
       "      <th>1</th>\n",
       "      <td>Try talking with ChatGPT, our new AI system wh...</td>\n",
       "      <td>good</td>\n",
       "    </tr>\n",
       "    <tr>\n",
       "      <th>2</th>\n",
       "      <td>ChatGPT: Optimizing Language Models for Dialog...</td>\n",
       "      <td>neutral</td>\n",
       "    </tr>\n",
       "    <tr>\n",
       "      <th>3</th>\n",
       "      <td>THRILLED to share that ChatGPT, our new model ...</td>\n",
       "      <td>good</td>\n",
       "    </tr>\n",
       "    <tr>\n",
       "      <th>4</th>\n",
       "      <td>As of 2 minutes ago, @OpenAI released their ne...</td>\n",
       "      <td>bad</td>\n",
       "    </tr>\n",
       "    <tr>\n",
       "      <th>...</th>\n",
       "      <td>...</td>\n",
       "      <td>...</td>\n",
       "    </tr>\n",
       "    <tr>\n",
       "      <th>300588</th>\n",
       "      <td>@JohnLloydTaylor</td>\n",
       "      <td>neutral</td>\n",
       "    </tr>\n",
       "    <tr>\n",
       "      <th>300589</th>\n",
       "      <td>Happy Mothers Day  All my love</td>\n",
       "      <td>love</td>\n",
       "    </tr>\n",
       "    <tr>\n",
       "      <th>300590</th>\n",
       "      <td>Happy Mother's Day to all the mommies out ther...</td>\n",
       "      <td>love</td>\n",
       "    </tr>\n",
       "    <tr>\n",
       "      <th>300591</th>\n",
       "      <td>@niariley WASSUP BEAUTIFUL!!! FOLLOW ME!!  PEE...</td>\n",
       "      <td>happiness</td>\n",
       "    </tr>\n",
       "    <tr>\n",
       "      <th>300592</th>\n",
       "      <td>@mopedronin bullet train from tokyo    the gf ...</td>\n",
       "      <td>love</td>\n",
       "    </tr>\n",
       "  </tbody>\n",
       "</table>\n",
       "<p>300414 rows × 2 columns</p>\n",
       "</div>"
      ],
      "text/plain": [
       "                                                     text  sentiment\n",
       "0       ChatGPT: Optimizing Language Models for Dialog...    neutral\n",
       "1       Try talking with ChatGPT, our new AI system wh...       good\n",
       "2       ChatGPT: Optimizing Language Models for Dialog...    neutral\n",
       "3       THRILLED to share that ChatGPT, our new model ...       good\n",
       "4       As of 2 minutes ago, @OpenAI released their ne...        bad\n",
       "...                                                   ...        ...\n",
       "300588                                   @JohnLloydTaylor    neutral\n",
       "300589                     Happy Mothers Day  All my love       love\n",
       "300590  Happy Mother's Day to all the mommies out ther...       love\n",
       "300591  @niariley WASSUP BEAUTIFUL!!! FOLLOW ME!!  PEE...  happiness\n",
       "300592  @mopedronin bullet train from tokyo    the gf ...       love\n",
       "\n",
       "[300414 rows x 2 columns]"
      ]
     },
     "execution_count": 6,
     "metadata": {},
     "output_type": "execute_result"
    }
   ],
   "source": [
    "dataset = dataset.drop(dataset[dataset[\"sentiment\"] == \"boredom\"].index)\n",
    "dataset = dataset.drop(dataset[dataset[\"sentiment\"] == \"boredom\"].index)"
   ]
  },
  {
   "cell_type": "code",
   "execution_count": 8,
   "metadata": {},
   "outputs": [
    {
     "name": "stdout",
     "output_type": "stream",
     "text": [
      "sentiment\n",
      "bad              107796\n",
      "neutral           75548\n",
      "good              56011\n",
      "negative          14668\n",
      "worry              8459\n",
      "positive           8116\n",
      "happiness          5209\n",
      "sadness            5165\n",
      "love               3842\n",
      "surprise           2187\n",
      "anger              2110\n",
      "joy                2000\n",
      "fear               1937\n",
      "fun                1776\n",
      "relief             1526\n",
      "hate               1323\n",
      "very negative      1155\n",
      "empty               827\n",
      "enthusiasm          759\n",
      "boredom             179\n",
      "Name: count, dtype: int64\n"
     ]
    }
   ],
   "source": [
    "uniques_val = dataset['sentiment'].value_counts()\n",
    "print(uniques_val)"
   ]
  }
 ],
 "metadata": {
  "kernelspec": {
   "display_name": "Python 3",
   "language": "python",
   "name": "python3"
  },
  "language_info": {
   "codemirror_mode": {
    "name": "ipython",
    "version": 3
   },
   "file_extension": ".py",
   "mimetype": "text/x-python",
   "name": "python",
   "nbconvert_exporter": "python",
   "pygments_lexer": "ipython3",
   "version": "3.10.11"
  }
 },
 "nbformat": 4,
 "nbformat_minor": 2
}
